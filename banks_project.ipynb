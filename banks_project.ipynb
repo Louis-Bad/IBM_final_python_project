{
 "cells": [
  {
   "cell_type": "markdown",
   "id": "6d27c903-2c22-4d35-abfa-0dc145b39f3e",
   "metadata": {
    "tags": []
   },
   "source": [
    "# IBM - Banks ETL Pipline"
   ]
  },
  {
   "cell_type": "markdown",
   "id": "a2493abe-95ff-4f06-864f-f51db64c68f0",
   "metadata": {
    "tags": []
   },
   "source": [
    "## Context"
   ]
  },
  {
   "cell_type": "markdown",
   "id": "930e05a2-ea54-4bd5-a9c5-a177dab01d60",
   "metadata": {},
   "source": [
    "***Scenario:***<br>\n",
    "You have been hired by research organization. You have been tasked to create a code that can be used to compile the list of the top 10 largest banks in the world ranked by market capitalization in billion USD. Further, the data needs to be transformed and stored in GBP, EUR and INR as well, in accordance with the exchange rate information. The processed information table is to be saved locally in a CSV format and as a database table.<br>\n",
    "The task is to create an automated system to generate this information so that the same can be executed in every financial quarter to prepare the report.\n",
    "<br>"
   ]
  },
  {
   "cell_type": "markdown",
   "id": "16fe4a9e-3a2f-4c76-b5e9-cf31db4c747f",
   "metadata": {
    "tags": []
   },
   "source": [
    "**Task 1:**<br>\n",
    "Write a function log_progress() to log the progress of the code at different stages in a file code_log.txt. Use the list of log points provided to create log entries as every stage of the code.\n",
    "<br><br>\n",
    "**Task 2:**<br>\n",
    "Extract the tabular information from the given URL under the heading 'By market capitalization' and save it to a dataframe.\n",
    "a. Inspect the webpage and identify the position and pattern of the tabular information in the HTML code\n",
    "b. Write the code for a function extract() to perform the required data extraction.\n",
    "c. Execute a function call to extract() to verify the output.\n",
    "<br><br>\n",
    "**Task 3:**<br>\n",
    "Transform the dataframe by adding columns for Market Capitalization in GBP, EUR and INR, rounded to 2 decimal places, based on the exchange rate information shared as a CSV file.\n",
    "a. Write the code for a function transform() to perform the said task.\n",
    "b. Execute a function call to transform() and verify the output.\n",
    "<br><br>\n",
    "**Task 4:**<br>\n",
    "Load the transformed dataframe to an output CSV file. Write a function load_to_csv(), execute a function call and verify the output.\n",
    "<br><br>\n",
    "**Task 5:**<br>\n",
    "Load the transformed dataframe to an SQL database server as a table. Write a function load_to_db(), execute a function call and verify the output.\n",
    "<br><br>\n",
    "**Task 6:**<br>\n",
    "Run queries on the database table. Write a function load_to_db(), execute a given set of queries and verify the output.\n",
    "<br><br>\n",
    "**Task 7:**<br>\n",
    "Verify that the log entries have been completed at all stages by checking the contents of the file code_log.txt."
   ]
  },
  {
   "cell_type": "markdown",
   "id": "754eef7e-3d26-405e-ad52-b522a6056626",
   "metadata": {},
   "source": [
    "-------"
   ]
  },
  {
   "cell_type": "markdown",
   "id": "e2256134-f9cc-420c-a653-07d4d579c568",
   "metadata": {},
   "source": [
    "## Set Up"
   ]
  },
  {
   "cell_type": "code",
   "execution_count": 15,
   "id": "28a993a5-2435-4e6c-8783-eced67669036",
   "metadata": {
    "tags": []
   },
   "outputs": [],
   "source": [
    "# Import dependencies\n",
    "import pandas as pd\n",
    "import numpy as np\n",
    "from datetime import datetime\n",
    "import requests\n",
    "import sqlite3\n",
    "from bs4 import BeautifulSoup"
   ]
  },
  {
   "cell_type": "code",
   "execution_count": null,
   "id": "dde5cc9f-b19a-4dc6-aef3-9dca04bbeab1",
   "metadata": {},
   "outputs": [],
   "source": [
    "# Accessing the required data\n",
    "# The below is the url where the exchange rate data can be found\n",
    "# https://cf-courses-data.s3.us.cloud-object-storage.appdomain.cloud/IBMSkillsNetwork-PY0221EN-Coursera/labs/v2/exchange_rate.csv\n",
    "\n",
    "# The below is the url where the 'largest banks' data can be found\n",
    "# https://web.archive.org/web/20230908091635/https://en.wikipedia.org/wiki/List_of_largest_banks"
   ]
  },
  {
   "cell_type": "markdown",
   "id": "f1d6882f-b0be-427d-9101-c71f0f3d949b",
   "metadata": {},
   "source": [
    "## Task 1"
   ]
  },
  {
   "cell_type": "code",
   "execution_count": 16,
   "id": "682cb46e-50f1-4c6d-bc29-92d2428c309e",
   "metadata": {},
   "outputs": [],
   "source": [
    "def log_progress(message):\n",
    "    ''' This function logs the mentioned message of a given stage of the\n",
    "    code execution to a log file. Function returns nothing'''\n",
    "    \n",
    "    # Creating the current time and parsing into desired string format\n",
    "    time_now = datetime.now().strftime('%Y-%h-%d-%H:%M:%S')\n",
    "    \n",
    "    # Append timestamp and message to process log file\n",
    "    with open('code_log.txt', 'a') as file:\n",
    "        file.write(f'{time_now} : {message}' + '\\n')"
   ]
  },
  {
   "cell_type": "code",
   "execution_count": 17,
   "id": "f7b90880-9fa5-439c-8d1a-5f9041213c4c",
   "metadata": {},
   "outputs": [],
   "source": [
    "# Creating the first log entry\n",
    "log_progress(\"Preliminaries complete. Initiating ETL process\")"
   ]
  },
  {
   "cell_type": "markdown",
   "id": "0f401aa3-f012-4c4f-9335-0c39592afa11",
   "metadata": {
    "tags": []
   },
   "source": [
    "## Task 2"
   ]
  },
  {
   "cell_type": "code",
   "execution_count": 30,
   "id": "104b88c4-aff9-4bb1-bd75-6b9b167f5d1f",
   "metadata": {},
   "outputs": [],
   "source": [
    "# Requesting wiki web page\n",
    "url = 'https://web.archive.org/web/20230908091635/https://en.wikipedia.org/wiki/List_of_largest_banks'\n",
    "page = requests.get(url)\n",
    "\n",
    "# Creating a soup object of the wiki page\n",
    "soup = BeautifulSoup(page.text)"
   ]
  },
  {
   "cell_type": "code",
   "execution_count": 127,
   "id": "5e4abc65-81f4-4168-bafe-7c6a4e44df8c",
   "metadata": {},
   "outputs": [
    {
     "data": {
      "text/plain": [
       "'10\\n'"
      ]
     },
     "execution_count": 127,
     "metadata": {},
     "output_type": "execute_result"
    }
   ],
   "source": [
    "# Finding the required table\n",
    "tables = soup.find_all('table')\n",
    "\n",
    "market_cap_tb = tables[0]\n",
    "market_cap_tb.find_all('tr')[10].find_all('td')[0].text"
   ]
  },
  {
   "cell_type": "code",
   "execution_count": 163,
   "id": "ec591300-67c9-4ade-ae87-659b00e18dbb",
   "metadata": {},
   "outputs": [
    {
     "data": {
      "text/plain": [
       "[[],\n",
       " ['1', ' JPMorgan Chase', '432.92'],\n",
       " ['2', ' Bank of America', '231.52'],\n",
       " ['3', ' Industrial and Commercial Bank of China', '194.56'],\n",
       " ['4', ' Agricultural Bank of China', '160.68'],\n",
       " ['5', ' HDFC Bank', '157.91'],\n",
       " ['6', ' Wells Fargo', '155.87'],\n",
       " ['7', ' HSBC Holdings PLC', '148.90'],\n",
       " ['8', ' Morgan Stanley', '140.83'],\n",
       " ['9', ' China Construction Bank', '139.82'],\n",
       " ['10', ' Bank of China', '136.81']]"
      ]
     },
     "execution_count": 163,
     "metadata": {},
     "output_type": "execute_result"
    }
   ],
   "source": [
    "# Empty list to be populated with several other lists. Each of these lists will represent\n",
    "# a row in the wiki table\n",
    "extracted_data = []\n",
    "\n",
    "# Iterate through each row in the market cap table and create an empty list\n",
    "for row in market_cap_tb.find_all('tr'):\n",
    "    extract_row = []\n",
    "    \n",
    "    # Iterate through each cell in the row and append the cell contents to a list\n",
    "    for cell in row.find_all('td'):\n",
    "        extract_row.append(cell.text[:-1]) # Each cell ends in \"\\n\" so [:-1] will ignore the last two characters \n",
    "    \n",
    "    # Append the list of cell contents to the extracted_data list\n",
    "    extracted_data.append(extract_row)\n",
    "        \n",
    "    \n",
    "extracted_data"
   ]
  },
  {
   "cell_type": "code",
   "execution_count": 165,
   "id": "c122be05-2e13-4809-9fe7-ce407afeaefb",
   "metadata": {},
   "outputs": [
    {
     "data": {
      "text/plain": [
       "[['Rank', 'Bank name', 'Market cap(US$ billion)'],\n",
       " ['1', ' JPMorgan Chase', '432.92'],\n",
       " ['2', ' Bank of America', '231.52'],\n",
       " ['3', ' Industrial and Commercial Bank of China', '194.56'],\n",
       " ['4', ' Agricultural Bank of China', '160.68'],\n",
       " ['5', ' HDFC Bank', '157.91'],\n",
       " ['6', ' Wells Fargo', '155.87'],\n",
       " ['7', ' HSBC Holdings PLC', '148.90'],\n",
       " ['8', ' Morgan Stanley', '140.83'],\n",
       " ['9', ' China Construction Bank', '139.82'],\n",
       " ['10', ' Bank of China', '136.81']]"
      ]
     },
     "execution_count": 165,
     "metadata": {},
     "output_type": "execute_result"
    }
   ],
   "source": [
    "# As the first row of the wiki table contains table headers, \"find_all('td')\" will return empty\n",
    "# This will replace the first empty list in 'extracted_data' with the table headers\n",
    "table_headers = [header.text[:-1] for header in market_cap_tb.find_all('th')]\n",
    "extracted_data[0] = table_headers\n",
    "extracted_data"
   ]
  },
  {
   "cell_type": "code",
   "execution_count": 166,
   "id": "afe95dfb-43c3-4617-992d-e013beb08852",
   "metadata": {},
   "outputs": [
    {
     "data": {
      "text/html": [
       "<div>\n",
       "<style scoped>\n",
       "    .dataframe tbody tr th:only-of-type {\n",
       "        vertical-align: middle;\n",
       "    }\n",
       "\n",
       "    .dataframe tbody tr th {\n",
       "        vertical-align: top;\n",
       "    }\n",
       "\n",
       "    .dataframe thead th {\n",
       "        text-align: right;\n",
       "    }\n",
       "</style>\n",
       "<table border=\"1\" class=\"dataframe\">\n",
       "  <thead>\n",
       "    <tr style=\"text-align: right;\">\n",
       "      <th></th>\n",
       "      <th>Rank</th>\n",
       "      <th>Bank name</th>\n",
       "      <th>Market cap(US$ billion)</th>\n",
       "    </tr>\n",
       "  </thead>\n",
       "  <tbody>\n",
       "    <tr>\n",
       "      <th>1</th>\n",
       "      <td>1</td>\n",
       "      <td>JPMorgan Chase</td>\n",
       "      <td>432.92</td>\n",
       "    </tr>\n",
       "    <tr>\n",
       "      <th>2</th>\n",
       "      <td>2</td>\n",
       "      <td>Bank of America</td>\n",
       "      <td>231.52</td>\n",
       "    </tr>\n",
       "    <tr>\n",
       "      <th>3</th>\n",
       "      <td>3</td>\n",
       "      <td>Industrial and Commercial Bank of China</td>\n",
       "      <td>194.56</td>\n",
       "    </tr>\n",
       "    <tr>\n",
       "      <th>4</th>\n",
       "      <td>4</td>\n",
       "      <td>Agricultural Bank of China</td>\n",
       "      <td>160.68</td>\n",
       "    </tr>\n",
       "    <tr>\n",
       "      <th>5</th>\n",
       "      <td>5</td>\n",
       "      <td>HDFC Bank</td>\n",
       "      <td>157.91</td>\n",
       "    </tr>\n",
       "    <tr>\n",
       "      <th>6</th>\n",
       "      <td>6</td>\n",
       "      <td>Wells Fargo</td>\n",
       "      <td>155.87</td>\n",
       "    </tr>\n",
       "    <tr>\n",
       "      <th>7</th>\n",
       "      <td>7</td>\n",
       "      <td>HSBC Holdings PLC</td>\n",
       "      <td>148.90</td>\n",
       "    </tr>\n",
       "    <tr>\n",
       "      <th>8</th>\n",
       "      <td>8</td>\n",
       "      <td>Morgan Stanley</td>\n",
       "      <td>140.83</td>\n",
       "    </tr>\n",
       "    <tr>\n",
       "      <th>9</th>\n",
       "      <td>9</td>\n",
       "      <td>China Construction Bank</td>\n",
       "      <td>139.82</td>\n",
       "    </tr>\n",
       "    <tr>\n",
       "      <th>10</th>\n",
       "      <td>10</td>\n",
       "      <td>Bank of China</td>\n",
       "      <td>136.81</td>\n",
       "    </tr>\n",
       "  </tbody>\n",
       "</table>\n",
       "</div>"
      ],
      "text/plain": [
       "0  Rank                                 Bank name Market cap(US$ billion)\n",
       "1     1                            JPMorgan Chase                  432.92\n",
       "2     2                           Bank of America                  231.52\n",
       "3     3   Industrial and Commercial Bank of China                  194.56\n",
       "4     4                Agricultural Bank of China                  160.68\n",
       "5     5                                 HDFC Bank                  157.91\n",
       "6     6                               Wells Fargo                  155.87\n",
       "7     7                         HSBC Holdings PLC                  148.90\n",
       "8     8                            Morgan Stanley                  140.83\n",
       "9     9                   China Construction Bank                  139.82\n",
       "10   10                             Bank of China                  136.81"
      ]
     },
     "execution_count": 166,
     "metadata": {},
     "output_type": "execute_result"
    }
   ],
   "source": [
    "# Creating a pandas dataframe using extracted data\n",
    "df = pd.DataFrame(extracted_data)\n",
    "\n",
    "# Set first row as column names and drop that row\n",
    "df.columns = df.loc[0, :]\n",
    "df = df.drop(index=0)\n",
    "df"
   ]
  },
  {
   "cell_type": "code",
   "execution_count": null,
   "id": "52c6fd99-8a92-48d2-bae9-055a2d259ce8",
   "metadata": {},
   "outputs": [],
   "source": []
  },
  {
   "cell_type": "code",
   "execution_count": null,
   "id": "75f37d50-1bfb-4c34-9b3b-6f0523108691",
   "metadata": {},
   "outputs": [],
   "source": []
  },
  {
   "cell_type": "code",
   "execution_count": null,
   "id": "db619e01-0af7-45ca-99c9-49031316423b",
   "metadata": {},
   "outputs": [],
   "source": [
    "def extract(url, table_attribs):\n",
    "    ''' This function aims to extract the required\n",
    "    information from the website and save it to a data frame. The\n",
    "    function returns the data frame for further processing. '''\n",
    "    \n",
    "    # ....\n",
    "    \n",
    "    \n",
    "    return df"
   ]
  },
  {
   "cell_type": "markdown",
   "id": "eb3ad793-0be0-492e-b1d2-d7c9176f75a2",
   "metadata": {
    "jp-MarkdownHeadingCollapsed": true,
    "tags": []
   },
   "source": [
    "## Task 3"
   ]
  },
  {
   "cell_type": "code",
   "execution_count": null,
   "id": "be539a5b-d932-4bef-a661-3446f3f1da0a",
   "metadata": {},
   "outputs": [],
   "source": [
    "def transform(df, csv_path):\n",
    "    ''' This function accesses the CSV file for exchange rate\n",
    "    information, and adds three columns to the data frame, each\n",
    "    containing the transformed version of Market Cap column to\n",
    "    respective currencies'''\n",
    "    return df"
   ]
  },
  {
   "cell_type": "code",
   "execution_count": null,
   "id": "f9087242-db3a-461f-8571-b8fc07c73c84",
   "metadata": {},
   "outputs": [],
   "source": []
  },
  {
   "cell_type": "markdown",
   "id": "40490efa-55b1-4911-af64-1eac7c307b36",
   "metadata": {
    "jp-MarkdownHeadingCollapsed": true,
    "tags": []
   },
   "source": [
    "## Task 4"
   ]
  },
  {
   "cell_type": "code",
   "execution_count": null,
   "id": "0607519c-c269-4369-a2e3-dd23f3081977",
   "metadata": {},
   "outputs": [],
   "source": [
    "def load_to_csv(df, output_path):\n",
    "    ''' This function saves the final data frame as a CSV file in\n",
    "    the provided path. Function returns nothing.'''"
   ]
  },
  {
   "cell_type": "code",
   "execution_count": null,
   "id": "5e9ffad2-342d-4c8a-937b-8021fbb1bf43",
   "metadata": {},
   "outputs": [],
   "source": []
  },
  {
   "cell_type": "markdown",
   "id": "af8bcf73-4817-457c-bde0-77623ea959af",
   "metadata": {
    "jp-MarkdownHeadingCollapsed": true,
    "tags": []
   },
   "source": [
    "## Task 5"
   ]
  },
  {
   "cell_type": "code",
   "execution_count": null,
   "id": "f2071934-ad78-403f-8969-f02f10b5ebb0",
   "metadata": {},
   "outputs": [],
   "source": [
    "def load_to_db(df, sql_connection, table_name):\n",
    "    ''' This function saves the final data frame to a database\n",
    "    table with the provided name. Function returns nothing.'''"
   ]
  },
  {
   "cell_type": "code",
   "execution_count": null,
   "id": "6c49797e-c17d-4af5-8e34-4c5136a691b8",
   "metadata": {},
   "outputs": [],
   "source": []
  },
  {
   "cell_type": "markdown",
   "id": "dbc96f8e-46fc-4966-a259-9e529bdc5285",
   "metadata": {
    "jp-MarkdownHeadingCollapsed": true,
    "tags": []
   },
   "source": [
    "## Task 6"
   ]
  },
  {
   "cell_type": "code",
   "execution_count": null,
   "id": "6f4e3627-e90e-4377-a100-afeec6aa3f2c",
   "metadata": {},
   "outputs": [],
   "source": [
    "def run_query(query_statement, sql_connection):\n",
    "    ''' This function runs the query on the database table and\n",
    "    prints the output on the terminal. Function returns nothing. '''"
   ]
  },
  {
   "cell_type": "code",
   "execution_count": null,
   "id": "47a599b8-4bc5-45f8-914f-5cf601110cc8",
   "metadata": {},
   "outputs": [],
   "source": []
  },
  {
   "cell_type": "markdown",
   "id": "9968c55e-b4ae-4c0a-825c-dcef50f2fbd7",
   "metadata": {
    "jp-MarkdownHeadingCollapsed": true,
    "tags": []
   },
   "source": [
    "## Task 7"
   ]
  },
  {
   "cell_type": "code",
   "execution_count": 3,
   "id": "41aee388-be57-470c-ab12-406d58fcb0ce",
   "metadata": {},
   "outputs": [],
   "source": [
    "''' Here, you define the required entities and call the relevant\n",
    "functions in the correct order to complete the project. Note that this\n",
    "portion is not inside any function.'''\n",
    "\n",
    "None"
   ]
  },
  {
   "cell_type": "code",
   "execution_count": null,
   "id": "2069f0a9-2a8d-4323-ab67-ba8ff10dfcd2",
   "metadata": {},
   "outputs": [],
   "source": []
  }
 ],
 "metadata": {
  "kernelspec": {
   "display_name": "Python 3 (ipykernel)",
   "language": "python",
   "name": "python3"
  },
  "language_info": {
   "codemirror_mode": {
    "name": "ipython",
    "version": 3
   },
   "file_extension": ".py",
   "mimetype": "text/x-python",
   "name": "python",
   "nbconvert_exporter": "python",
   "pygments_lexer": "ipython3",
   "version": "3.9.12"
  }
 },
 "nbformat": 4,
 "nbformat_minor": 5
}
