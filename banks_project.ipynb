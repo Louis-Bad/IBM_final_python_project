{
 "cells": [
  {
   "cell_type": "markdown",
   "id": "6d27c903-2c22-4d35-abfa-0dc145b39f3e",
   "metadata": {
    "tags": []
   },
   "source": [
    "# IBM - Banks ETL Pipline"
   ]
  },
  {
   "cell_type": "markdown",
   "id": "16fe4a9e-3a2f-4c76-b5e9-cf31db4c747f",
   "metadata": {
    "tags": []
   },
   "source": [
    "## Tasks\n",
    "\n",
    "**Task 1:**\n",
    "Write a function log_progress() to log the progress of the code at different stages in a file code_log.txt. Use the list of log points provided to create log entries as every stage of the code.\n",
    "<br><br>\n",
    "**Task 2:**\n",
    "Extract the tabular information from the given URL under the heading 'By market capitalization' and save it to a dataframe.\n",
    "a. Inspect the webpage and identify the position and pattern of the tabular information in the HTML code\n",
    "b. Write the code for a function extract() to perform the required data extraction.\n",
    "c. Execute a function call to extract() to verify the output.\n",
    "<br><br>\n",
    "**Task 3:**\n",
    "Transform the dataframe by adding columns for Market Capitalization in GBP, EUR and INR, rounded to 2 decimal places, based on the exchange rate information shared as a CSV file.\n",
    "a. Write the code for a function transform() to perform the said task.\n",
    "b. Execute a function call to transform() and verify the output.\n",
    "<br><br>\n",
    "**Task 4:**\n",
    "Load the transformed dataframe to an output CSV file. Write a function load_to_csv(), execute a function call and verify the output.\n",
    "<br><br>\n",
    "**Task 5:**\n",
    "Load the transformed dataframe to an SQL database server as a table. Write a function load_to_db(), execute a function call and verify the output.\n",
    "<br><br>\n",
    "**Task 6:**\n",
    "Run queries on the database table. Write a function load_to_db(), execute a given set of queries and verify the output.\n",
    "<br><br>\n",
    "**Task 7:**\n",
    "Verify that the log entries have been completed at all stages by checking the contents of the file code_log.txt.\n"
   ]
  },
  {
   "cell_type": "markdown",
   "id": "f1d6882f-b0be-427d-9101-c71f0f3d949b",
   "metadata": {},
   "source": [
    "## Task 1"
   ]
  },
  {
   "cell_type": "code",
   "execution_count": null,
   "id": "682cb46e-50f1-4c6d-bc29-92d2428c309e",
   "metadata": {},
   "outputs": [],
   "source": []
  },
  {
   "cell_type": "code",
   "execution_count": null,
   "id": "87daabb7-3d91-4740-8b24-3031f5ca36ea",
   "metadata": {},
   "outputs": [],
   "source": []
  },
  {
   "cell_type": "markdown",
   "id": "0f401aa3-f012-4c4f-9335-0c39592afa11",
   "metadata": {
    "jp-MarkdownHeadingCollapsed": true,
    "tags": []
   },
   "source": [
    "## Task 2"
   ]
  },
  {
   "cell_type": "code",
   "execution_count": null,
   "id": "db619e01-0af7-45ca-99c9-49031316423b",
   "metadata": {},
   "outputs": [],
   "source": []
  },
  {
   "cell_type": "code",
   "execution_count": null,
   "id": "19e9a437-a27f-46d7-9d57-b184482a39bc",
   "metadata": {},
   "outputs": [],
   "source": []
  },
  {
   "cell_type": "markdown",
   "id": "eb3ad793-0be0-492e-b1d2-d7c9176f75a2",
   "metadata": {
    "jp-MarkdownHeadingCollapsed": true,
    "tags": []
   },
   "source": [
    "## Task 3"
   ]
  },
  {
   "cell_type": "code",
   "execution_count": null,
   "id": "be539a5b-d932-4bef-a661-3446f3f1da0a",
   "metadata": {},
   "outputs": [],
   "source": []
  },
  {
   "cell_type": "code",
   "execution_count": null,
   "id": "f9087242-db3a-461f-8571-b8fc07c73c84",
   "metadata": {},
   "outputs": [],
   "source": []
  },
  {
   "cell_type": "markdown",
   "id": "40490efa-55b1-4911-af64-1eac7c307b36",
   "metadata": {
    "jp-MarkdownHeadingCollapsed": true,
    "tags": []
   },
   "source": [
    "## Task 4"
   ]
  },
  {
   "cell_type": "code",
   "execution_count": null,
   "id": "0607519c-c269-4369-a2e3-dd23f3081977",
   "metadata": {},
   "outputs": [],
   "source": []
  },
  {
   "cell_type": "code",
   "execution_count": null,
   "id": "5e9ffad2-342d-4c8a-937b-8021fbb1bf43",
   "metadata": {},
   "outputs": [],
   "source": []
  },
  {
   "cell_type": "markdown",
   "id": "af8bcf73-4817-457c-bde0-77623ea959af",
   "metadata": {
    "jp-MarkdownHeadingCollapsed": true,
    "tags": []
   },
   "source": [
    "## Task 5"
   ]
  },
  {
   "cell_type": "code",
   "execution_count": null,
   "id": "f2071934-ad78-403f-8969-f02f10b5ebb0",
   "metadata": {},
   "outputs": [],
   "source": []
  },
  {
   "cell_type": "code",
   "execution_count": null,
   "id": "6c49797e-c17d-4af5-8e34-4c5136a691b8",
   "metadata": {},
   "outputs": [],
   "source": []
  },
  {
   "cell_type": "markdown",
   "id": "dbc96f8e-46fc-4966-a259-9e529bdc5285",
   "metadata": {
    "jp-MarkdownHeadingCollapsed": true,
    "tags": []
   },
   "source": [
    "## Task 6"
   ]
  },
  {
   "cell_type": "code",
   "execution_count": null,
   "id": "6f4e3627-e90e-4377-a100-afeec6aa3f2c",
   "metadata": {},
   "outputs": [],
   "source": []
  },
  {
   "cell_type": "code",
   "execution_count": null,
   "id": "47a599b8-4bc5-45f8-914f-5cf601110cc8",
   "metadata": {},
   "outputs": [],
   "source": []
  },
  {
   "cell_type": "markdown",
   "id": "9968c55e-b4ae-4c0a-825c-dcef50f2fbd7",
   "metadata": {
    "jp-MarkdownHeadingCollapsed": true,
    "tags": []
   },
   "source": [
    "## Task 7"
   ]
  },
  {
   "cell_type": "markdown",
   "id": "40b3bad6-7e46-46ef-85f4-767b394af25b",
   "metadata": {},
   "source": []
  },
  {
   "cell_type": "code",
   "execution_count": null,
   "id": "2069f0a9-2a8d-4323-ab67-ba8ff10dfcd2",
   "metadata": {},
   "outputs": [],
   "source": []
  }
 ],
 "metadata": {
  "kernelspec": {
   "display_name": "Python 3 (ipykernel)",
   "language": "python",
   "name": "python3"
  },
  "language_info": {
   "codemirror_mode": {
    "name": "ipython",
    "version": 3
   },
   "file_extension": ".py",
   "mimetype": "text/x-python",
   "name": "python",
   "nbconvert_exporter": "python",
   "pygments_lexer": "ipython3",
   "version": "3.9.12"
  }
 },
 "nbformat": 4,
 "nbformat_minor": 5
}
